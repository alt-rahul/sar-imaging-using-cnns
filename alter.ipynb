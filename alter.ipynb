{
 "cells": [
  {
   "cell_type": "code",
   "execution_count": 2,
   "metadata": {},
   "outputs": [],
   "source": [
    "import torch\n",
    "from torch import nn\n",
    "import torchmetrics\n",
    "import torchvision\n",
    "from torchvision import transforms\n",
    "from torchvision.transforms import ToTensor"
   ]
  },
  {
   "cell_type": "code",
   "execution_count": 3,
   "metadata": {},
   "outputs": [
    {
     "data": {
      "text/plain": [
       "'cpu'"
      ]
     },
     "execution_count": 3,
     "metadata": {},
     "output_type": "execute_result"
    }
   ],
   "source": [
    "device = 'cuda' if torch.cuda.is_available() else 'cpu'\n",
    "device"
   ]
  },
  {
   "cell_type": "code",
   "execution_count": 4,
   "metadata": {},
   "outputs": [],
   "source": [
    "import os\n",
    "from PIL import Image\n",
    "from torch.utils.data import Dataset, DataLoader\n",
    "from torchvision.transforms import ToTensor, Compose\n",
    "from numpy import asarray\n",
    "from patchify import patchify\n",
    "\n",
    "class ImageDataset(Dataset):\n",
    "    def __init__(self, image_dir, image_dir_2, transform=None):\n",
    "        self.image_dir = image_dir\n",
    "        self.image_dir_2 = image_dir_2\n",
    "        self.image_files = [i for i in os.listdir(image_dir) if i.endswith(('.png', '.jpg', '.jpeg', '.bmp'))]\n",
    "        self.images_files_2 = [i for i in os.listdir(image_dir_2) if i.endswith(('.png', '.jpg', '.jpeg', '.bmp'))]\n",
    "        self.transform = transform\n",
    " \n",
    "    def len(self):\n",
    "        return len(self.image_files)\n",
    "\n",
    "    def getItem(self, dirc, files, idx):\n",
    "        img_path = os.path.join(dirc, files[idx])\n",
    "        image = Image.open(img_path).convert(\"L\")\n",
    "        if self.transform:\n",
    "            image = self.transform(image)\n",
    "        return image  \n",
    "    \n",
    "    def getDataset(self, limit):\n",
    "        total_dataset = []\n",
    "        for i in range(1, limit):\n",
    "            if i % 1000 == 0:\n",
    "                print(f\"Have reached {i}/{len(self.image_files)}\")\n",
    "            total_dataset.append([self.getItem(dirc =self.image_dir, files=self.image_files, idx=i), self.getItem(dirc =self.image_dir_2, files=self.images_files_2, idx=i)])\n",
    "        return total_dataset\n",
    "    \n",
    "    def getImage(self, idx, k, image_dir_1, image_dir_2, image_files_1, image_files_2):\n",
    "        \n",
    "\n",
    "\n",
    "\n",
    "\n",
    "        return [image_1, image_2]\n",
    "    \n",
    "    def getResultList(self, idx, k, image_dir, image_files):\n",
    "        img_path = os.path.join(self.image_dir, self.image_files[idx])\n",
    "        image_1 = Image.open(img_path).convert(\"L\")\n",
    "        image_1 = asarray(image_1)\n",
    "        patches_1 = patchify(image_1, (k, k), k)\n",
    "        tensor_imgs_1 = []\n",
    "        for i in (range(len(patches_1))):\n",
    "            random = self.transform(patches_1[i][i])\n",
    "            tensor_imgs_1.append(random)\n",
    "        return tensor_imgs_1\n",
    "        "
   ]
  },
  {
   "cell_type": "code",
   "execution_count": 23,
   "metadata": {},
   "outputs": [],
   "source": [
    "from dotenv import load_dotenv\n",
    "import os\n",
    "\n",
    "load_dotenv()\n",
    "clean_dir = os.environ[\"DATA_DIR\"]\n",
    "noise_dir = os.environ['DATA_DIR_2']"
   ]
  },
  {
   "cell_type": "code",
   "execution_count": 41,
   "metadata": {},
   "outputs": [
    {
     "name": "stdout",
     "output_type": "stream",
     "text": [
      "sample_img shape after numpy transformation: (256, 256)\n"
     ]
    },
    {
     "data": {
      "text/plain": [
       "torch.Size([1, 32, 32])"
      ]
     },
     "execution_count": 41,
     "metadata": {},
     "output_type": "execute_result"
    }
   ],
   "source": [
    "from patchify import patchify\n",
    "from numpy import asarray\n",
    "\n",
    "transformations = Compose([\n",
    "    ToTensor(), \n",
    "])\n",
    "\n",
    "sample_img_path = r\"C:\\Users\\rahul\\Documents\\PyFiles\\datasets\\virtual_sar_training_set\\clean_1c\\00001.jpg\"\n",
    "sample_img = Image.open(sample_img_path).convert(\"L\")\n",
    "pre_tensor_img = transformations(sample_img)\n",
    "sample_img = asarray(sample_img)\n",
    "print(f'sample_img shape after numpy transformation: {sample_img.shape}')\n",
    "\n",
    "patches = patchify(sample_img, (32, 32), 32)\n",
    "\n",
    "rand_img = patches[0][0]\n",
    "tensor_img = transformations(rand_img)\n",
    "tensor_img.shape\n",
    "\n",
    "tesnor_imgs = []\n",
    "\n",
    "for i in (range(len(patches))):\n",
    "    random = transformations(patches[i][i])\n",
    "    tesnor_imgs.append(random)\n",
    "\n",
    "tesnor_imgs[0].shape"
   ]
  },
  {
   "cell_type": "code",
   "execution_count": null,
   "metadata": {},
   "outputs": [],
   "source": []
  }
 ],
 "metadata": {
  "kernelspec": {
   "display_name": "base",
   "language": "python",
   "name": "python3"
  },
  "language_info": {
   "codemirror_mode": {
    "name": "ipython",
    "version": 3
   },
   "file_extension": ".py",
   "mimetype": "text/x-python",
   "name": "python",
   "nbconvert_exporter": "python",
   "pygments_lexer": "ipython3",
   "version": "3.12.7"
  }
 },
 "nbformat": 4,
 "nbformat_minor": 2
}
