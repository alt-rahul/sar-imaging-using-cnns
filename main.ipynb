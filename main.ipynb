{
 "cells": [
  {
   "cell_type": "code",
   "execution_count": 2,
   "metadata": {},
   "outputs": [],
   "source": [
    "import torch \n",
    "from torch import nn\n",
    "import torchvision\n",
    "from torchvision import transforms, datasets\n",
    "from torchvision.transforms import ToTensor\n",
    "import torchmetrics"
   ]
  },
  {
   "cell_type": "code",
   "execution_count": 7,
   "metadata": {},
   "outputs": [],
   "source": [
    "import os\n",
    "from PIL import Image\n",
    "from torch.utils.data import Dataset, DataLoader\n",
    "from torchvision.transforms import ToTensor, Compose\n",
    "\n",
    "class ImageDataset(Dataset):\n",
    "    def __init__(self, image_dir, transform=None):\n",
    "        self.image_dir = image_dir\n",
    "        self.image_files = [i for i in os.listdir(image_dir) if i.endswith(('.png', '.jpg', '.jpeg', '.bmp'))]\n",
    "        self.transform = transform\n",
    "\n",
    "    def __len__(self):\n",
    "        return len(self.image_files)\n",
    "\n",
    "    def __getitem__(self, idx):\n",
    "        img_path = os.path.join(self.image_dir, self.image_files[idx])\n",
    "        image = Image.open(img_path).convert(\"RGB\") \n",
    "        if self.transform:\n",
    "            image = self.transform(image)\n",
    "        return image  \n",
    "\n",
    "DATA_DIR = r\"C:\\Users\\rahul\\Documents\\PyFiles\\Notebooks\\papers\\sar_imaging\\virtual_sar_training_set\\clean_1c\"\n",
    "\n",
    "transformations = Compose([\n",
    "    ToTensor(), \n",
    "])\n",
    "\n",
    "clean_dataset = ImageDataset(DATA_DIR, transform=transformations)\n",
    "clean_dataloader = DataLoader(dataset=clean_dataset, batch_size=32, shuffle=True)\n"
   ]
  },
  {
   "cell_type": "code",
   "execution_count": null,
   "metadata": {},
   "outputs": [],
   "source": [
    "NOISE_DATA_DIR = r\"C:\\Users\\rahul\\Documents\\PyFiles\\Notebooks\\papers\\sar_imaging\\virtual_sar_training_set\\noisy_1c\"\n",
    "\n",
    "noise_dataset = ImageDataset(NOISE_DATA_DIR, transform=transformations)\n",
    "noise_dataloader = DataLoader(datasets=noise_dataset, batch_size=32, shuffle=True)"
   ]
  },
  {
   "cell_type": "code",
   "execution_count": 12,
   "metadata": {},
   "outputs": [
    {
     "data": {
      "text/plain": [
       "tensor([[[0.5529, 0.5569, 0.5608,  ..., 0.4980, 0.5490, 0.5569],\n",
       "         [0.5686, 0.5686, 0.5686,  ..., 0.5333, 0.5725, 0.5647],\n",
       "         [0.5765, 0.5725, 0.5686,  ..., 0.5569, 0.5608, 0.5373],\n",
       "         ...,\n",
       "         [0.5216, 0.5412, 0.5647,  ..., 0.2706, 0.2627, 0.2588],\n",
       "         [0.4431, 0.4667, 0.5020,  ..., 0.2706, 0.2588, 0.2549],\n",
       "         [0.4471, 0.4588, 0.4824,  ..., 0.2667, 0.2627, 0.2549]],\n",
       "\n",
       "        [[0.5529, 0.5569, 0.5608,  ..., 0.4980, 0.5490, 0.5569],\n",
       "         [0.5686, 0.5686, 0.5686,  ..., 0.5333, 0.5725, 0.5647],\n",
       "         [0.5765, 0.5725, 0.5686,  ..., 0.5569, 0.5608, 0.5373],\n",
       "         ...,\n",
       "         [0.5216, 0.5412, 0.5647,  ..., 0.2706, 0.2627, 0.2588],\n",
       "         [0.4431, 0.4667, 0.5020,  ..., 0.2706, 0.2588, 0.2549],\n",
       "         [0.4471, 0.4588, 0.4824,  ..., 0.2667, 0.2627, 0.2549]],\n",
       "\n",
       "        [[0.5529, 0.5569, 0.5608,  ..., 0.4980, 0.5490, 0.5569],\n",
       "         [0.5686, 0.5686, 0.5686,  ..., 0.5333, 0.5725, 0.5647],\n",
       "         [0.5765, 0.5725, 0.5686,  ..., 0.5569, 0.5608, 0.5373],\n",
       "         ...,\n",
       "         [0.5216, 0.5412, 0.5647,  ..., 0.2706, 0.2627, 0.2588],\n",
       "         [0.4431, 0.4667, 0.5020,  ..., 0.2706, 0.2588, 0.2549],\n",
       "         [0.4471, 0.4588, 0.4824,  ..., 0.2667, 0.2627, 0.2549]]])"
      ]
     },
     "execution_count": 12,
     "metadata": {},
     "output_type": "execute_result"
    }
   ],
   "source": [
    "clean_dataset.__getitem__(0)"
   ]
  },
  {
   "cell_type": "code",
   "execution_count": null,
   "metadata": {},
   "outputs": [],
   "source": [
    "import matplotlib.pyplot as plt\n",
    "\n"
   ]
  },
  {
   "cell_type": "code",
   "execution_count": null,
   "metadata": {},
   "outputs": [],
   "source": [
    "class SARDespeckleModel(nn.Module):\n",
    "    def __init__(self, input_shape:int, hidden_units:int, output_shape:int):\n",
    "        super().__init__()\n",
    "        self.layer_1 = nn.Sequential(\n",
    "            nn.Conv2d(in_channels=input_shape, out_channels=hidden_units, kernel_size=3, stride=1, padding=0),\n",
    "            nn.ReLU()\n",
    "        )\n",
    "        for i in range(5):\n",
    "            \n"
   ]
  }
 ],
 "metadata": {
  "kernelspec": {
   "display_name": "base",
   "language": "python",
   "name": "python3"
  },
  "language_info": {
   "codemirror_mode": {
    "name": "ipython",
    "version": 3
   },
   "file_extension": ".py",
   "mimetype": "text/x-python",
   "name": "python",
   "nbconvert_exporter": "python",
   "pygments_lexer": "ipython3",
   "version": "3.12.3"
  }
 },
 "nbformat": 4,
 "nbformat_minor": 2
}
