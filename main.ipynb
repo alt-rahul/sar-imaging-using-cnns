{
 "cells": [
  {
   "cell_type": "code",
   "execution_count": 13,
   "metadata": {},
   "outputs": [],
   "source": [
    "import torch \n",
    "from torch import nn\n",
    "import torchvision\n",
    "from torchvision import transforms, datasets\n",
    "from torchvision.transforms import ToTensor\n",
    "import torchmetrics"
   ]
  },
  {
   "cell_type": "code",
   "execution_count": 17,
   "metadata": {},
   "outputs": [],
   "source": [
    "import os\n",
    "from PIL import Image\n",
    "from torch.utils.data import Dataset, DataLoader\n",
    "from torchvision.transforms import ToTensor, Compose\n",
    "\n",
    "class ImageDataset(Dataset):\n",
    "    def __init__(self, image_dir, image_dir_2, transform=None):\n",
    "        self.image_dir = image_dir\n",
    "        self.image_dir_2 = image_dir_2\n",
    "        self.image_files = [i for i in os.listdir(image_dir) if i.endswith(('.png', '.jpg', '.jpeg', '.bmp'))]\n",
    "        self.images_files_2 = [i for i in os.list(image_dir_2) if i.endswith(('.png', '.jpg', '.jpeg', '.bmp'))]\n",
    "        self.transform = transform\n",
    "\n",
    "    def len(self):\n",
    "        return len(self.image_files)\n",
    "\n",
    "    def getItem(self, idx):\n",
    "        img_path = os.path.join(self.image_dir, self.image_files[idx])\n",
    "        image = Image.open(img_path).convert(\"RGB\") \n",
    "        if self.transform:\n",
    "            image = self.transform(image)\n",
    "        return image  \n",
    "    \n",
    "    def getDataset(self):\n",
    "        total_dataset = []\n",
    "        for i, j in enumerate(self.image_files):\n",
    "            img_path = os.path.join(self.image_dir, self.image_files[i])\n",
    "            image = Image.open(img_path).convert(\"RGB\") \n",
    "            if self.transform:\n",
    "                image = self.transform(image)\n",
    "\n",
    "DATA_DIR = r\"C:\\Users\\rahul\\Documents\\PyFiles\\Notebooks\\papers\\sar_imaging\\virtual_sar_training_set\\clean_1c\"\n",
    "\n",
    "transformations = Compose([\n",
    "    ToTensor(), \n",
    "])\n",
    "\n",
    "clean_dataset = ImageDataset(DATA_DIR, transform=transformations)"
   ]
  },
  {
   "cell_type": "code",
   "execution_count": 18,
   "metadata": {},
   "outputs": [],
   "source": [
    "NOISE_DATA_DIR = r\"C:\\Users\\rahul\\Documents\\PyFiles\\Notebooks\\papers\\sar_imaging\\virtual_sar_training_set\\noisy_1c\"\n",
    "\n",
    "noise_dataset = ImageDataset(NOISE_DATA_DIR, transform=transformations)\n"
   ]
  },
  {
   "cell_type": "code",
   "execution_count": null,
   "metadata": {},
   "outputs": [
    {
     "data": {
      "text/plain": [
       "tensor([[[0.3686, 0.3961, 0.3922,  ..., 0.3059, 0.3412, 0.3020],\n",
       "         [0.4039, 0.4078, 0.3922,  ..., 0.3529, 0.3529, 0.4431],\n",
       "         [0.3961, 0.3804, 0.3686,  ..., 0.3529, 0.3412, 0.2980],\n",
       "         ...,\n",
       "         [0.4039, 0.3882, 0.3098,  ..., 0.2627, 0.2863, 0.2431],\n",
       "         [0.3686, 0.4353, 0.3804,  ..., 0.3137, 0.3451, 0.2902],\n",
       "         [0.4980, 0.3725, 0.4588,  ..., 0.2510, 0.2863, 0.2784]],\n",
       "\n",
       "        [[0.3686, 0.3961, 0.3922,  ..., 0.3059, 0.3412, 0.3020],\n",
       "         [0.4039, 0.4078, 0.3922,  ..., 0.3529, 0.3529, 0.4431],\n",
       "         [0.3961, 0.3804, 0.3686,  ..., 0.3529, 0.3412, 0.2980],\n",
       "         ...,\n",
       "         [0.4039, 0.3882, 0.3098,  ..., 0.2627, 0.2863, 0.2431],\n",
       "         [0.3686, 0.4353, 0.3804,  ..., 0.3137, 0.3451, 0.2902],\n",
       "         [0.4980, 0.3725, 0.4588,  ..., 0.2510, 0.2863, 0.2784]],\n",
       "\n",
       "        [[0.3686, 0.3961, 0.3922,  ..., 0.3059, 0.3412, 0.3020],\n",
       "         [0.4039, 0.4078, 0.3922,  ..., 0.3529, 0.3529, 0.4431],\n",
       "         [0.3961, 0.3804, 0.3686,  ..., 0.3529, 0.3412, 0.2980],\n",
       "         ...,\n",
       "         [0.4039, 0.3882, 0.3098,  ..., 0.2627, 0.2863, 0.2431],\n",
       "         [0.3686, 0.4353, 0.3804,  ..., 0.3137, 0.3451, 0.2902],\n",
       "         [0.4980, 0.3725, 0.4588,  ..., 0.2510, 0.2863, 0.2784]]])"
      ]
     },
     "execution_count": 23,
     "metadata": {},
     "output_type": "execute_result"
    }
   ],
   "source": [
    "train_clean_data = [i for i in clean_dataset]"
   ]
  },
  {
   "cell_type": "code",
   "execution_count": null,
   "metadata": {},
   "outputs": [],
   "source": []
  },
  {
   "cell_type": "code",
   "execution_count": null,
   "metadata": {},
   "outputs": [],
   "source": [
    "import matplotlib.pyplot as plt\n",
    "\n"
   ]
  },
  {
   "cell_type": "code",
   "execution_count": null,
   "metadata": {},
   "outputs": [],
   "source": [
    "class SARDespeckleModel(nn.Module):\n",
    "    def __init__(self, input_shape:int, hidden_units:int, output_shape:int):\n",
    "        super().__init__()\n",
    "        self.layer_1 = nn.Sequential(\n",
    "            nn.Conv2d(in_channels=input_shape, out_channels=hidden_units, kernel_size=3, stride=1, padding=0),\n",
    "            nn.ReLU()\n",
    "        )\n",
    "        for i in range(5):\n",
    "            \n"
   ]
  }
 ],
 "metadata": {
  "kernelspec": {
   "display_name": "base",
   "language": "python",
   "name": "python3"
  },
  "language_info": {
   "codemirror_mode": {
    "name": "ipython",
    "version": 3
   },
   "file_extension": ".py",
   "mimetype": "text/x-python",
   "name": "python",
   "nbconvert_exporter": "python",
   "pygments_lexer": "ipython3",
   "version": "3.12.3"
  }
 },
 "nbformat": 4,
 "nbformat_minor": 2
}
