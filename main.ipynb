{
 "cells": [
  {
   "cell_type": "code",
   "execution_count": 1,
   "metadata": {},
   "outputs": [],
   "source": [
    "import torch \n",
    "from torch import nn\n",
    "import torchvision\n",
    "from torchvision import transforms, datasets\n",
    "from torchvision.transforms import ToTensor"
   ]
  },
  {
   "cell_type": "code",
   "execution_count": 2,
   "metadata": {},
   "outputs": [
    {
     "data": {
      "text/plain": [
       "'cuda'"
      ]
     },
     "execution_count": 2,
     "metadata": {},
     "output_type": "execute_result"
    }
   ],
   "source": [
    "device = 'cuda' if torch.cuda.is_available() else 'cpu'\n",
    "device"
   ]
  },
  {
   "cell_type": "code",
   "execution_count": 7,
   "metadata": {},
   "outputs": [],
   "source": [
    "# class SARDespeckleModel(nn.Module):\n",
    "#     def __init__(self, input_shape:int, hidden_units:int, output_shape:int):\n",
    "#         super().__init__()\n",
    "#         self.layer_1 = nn.Sequential(\n",
    "#             nn.Conv2d(in_channels=input_shape, out_channels=hidden_units, kernel_size=3, stride=1, padding=0),\n",
    "#             nn.ReLU()\n",
    "#         )\n",
    "#         for i in range(5):\n",
    "            \n"
   ]
  },
  {
   "cell_type": "code",
   "execution_count": 3,
   "metadata": {},
   "outputs": [],
   "source": [
    "import os\n",
    "from PIL import Image\n",
    "from torch.utils.data import Dataset, DataLoader\n",
    "from torchvision.transforms import ToTensor, Compose\n",
    "\n",
    "class ImageDataset(Dataset):\n",
    "    def __init__(self, image_dir, image_dir_2, transform=None):\n",
    "        self.image_dir = image_dir\n",
    "        self.image_dir_2 = image_dir_2\n",
    "        self.image_files = [i for i in os.listdir(image_dir) if i.endswith(('.png', '.jpg', '.jpeg', '.bmp'))]\n",
    "        self.images_files_2 = [i for i in os.listdir(image_dir_2) if i.endswith(('.png', '.jpg', '.jpeg', '.bmp'))]\n",
    "        self.transform = transform\n",
    " \n",
    "    def len(self):\n",
    "        return len(self.image_files)\n",
    "\n",
    "    def getItem(self, dirc, files, idx):\n",
    "        img_path = os.path.join(dirc, files[idx])\n",
    "        image = Image.open(img_path).convert(\"RGB\")\n",
    "        if self.transform:\n",
    "            image = self.transform(image)\n",
    "        return image  \n",
    "    \n",
    "    def getDataset(self, limit):\n",
    "        total_dataset = []\n",
    "        for i in range(limit):\n",
    "            if i % 1000 == 0:\n",
    "                print(f\"Have reached {i}/{len(self.image_files)}\")\n",
    "            total_dataset.append([self.getItem(dirc =self.image_dir, files=self.image_files, idx=i), self.getItem(dirc =self.image_dir_2, files=self.images_files_2, idx=i)])\n",
    "        return total_dataset"
   ]
  },
  {
   "cell_type": "code",
   "execution_count": 4,
   "metadata": {},
   "outputs": [],
   "source": [
    "from dotenv import load_dotenv\n",
    "import os\n",
    "\n",
    "load_dotenv()\n",
    "clean_dir = os.environ[\"DATA_DIR\"]\n",
    "noise_dir = os.environ['DATA_DIR_2']"
   ]
  },
  {
   "cell_type": "code",
   "execution_count": 5,
   "metadata": {},
   "outputs": [
    {
     "name": "stdout",
     "output_type": "stream",
     "text": [
      "Have reached 0/31500\n",
      "Have reached 1000/31500\n",
      "Have reached 2000/31500\n",
      "Have reached 3000/31500\n",
      "Have reached 4000/31500\n",
      "Have reached 5000/31500\n",
      "Have reached 6000/31500\n",
      "Have reached 0/31500\n",
      "Have reached 1000/31500\n"
     ]
    }
   ],
   "source": [
    "transformations = Compose([\n",
    "    ToTensor(), \n",
    "])\n",
    "\n",
    "train_dataset = ImageDataset(image_dir=clean_dir, image_dir_2=noise_dir, transform=transformations).getDataset(7000)\n",
    "test_dataset = ImageDataset(image_dir=clean_dir, image_dir_2=noise_dir, transform=transformations).getDataset(2000)"
   ]
  },
  {
   "cell_type": "code",
   "execution_count": 8,
   "metadata": {},
   "outputs": [],
   "source": [
    "from torch.utils.data import DataLoader\n",
    "\n",
    "BATCH_SIZE = 32\n",
    "\n",
    "train_dataloader = DataLoader(dataset=train_dataset, batch_size=BATCH_SIZE, shuffle=True)\n",
    "test_dataloader = DataLoader(dataset=test_dataset, batch_size=BATCH_SIZE, shuffle=False)\n"
   ]
  },
  {
   "cell_type": "code",
   "execution_count": 12,
   "metadata": {},
   "outputs": [
    {
     "data": {
      "text/plain": [
       "tensor([[[0.5647, 0.6157, 0.5882,  ..., 0.4275, 0.5020, 0.5647],\n",
       "         [0.5608, 0.6353, 0.6471,  ..., 0.3647, 0.4392, 0.5059],\n",
       "         [0.4667, 0.5686, 0.6863,  ..., 0.4118, 0.4784, 0.5333],\n",
       "         ...,\n",
       "         [0.2000, 0.1804, 0.1490,  ..., 0.2980, 0.3020, 0.3059],\n",
       "         [0.1451, 0.1647, 0.1608,  ..., 0.3255, 0.2941, 0.2471],\n",
       "         [0.0941, 0.1529, 0.1843,  ..., 0.3686, 0.3765, 0.3255]],\n",
       "\n",
       "        [[0.5647, 0.6157, 0.5882,  ..., 0.4275, 0.5020, 0.5647],\n",
       "         [0.5608, 0.6353, 0.6471,  ..., 0.3647, 0.4392, 0.5059],\n",
       "         [0.4667, 0.5686, 0.6863,  ..., 0.4118, 0.4784, 0.5333],\n",
       "         ...,\n",
       "         [0.2000, 0.1804, 0.1490,  ..., 0.2980, 0.3020, 0.3059],\n",
       "         [0.1451, 0.1647, 0.1608,  ..., 0.3255, 0.2941, 0.2471],\n",
       "         [0.0941, 0.1529, 0.1843,  ..., 0.3686, 0.3765, 0.3255]],\n",
       "\n",
       "        [[0.5647, 0.6157, 0.5882,  ..., 0.4275, 0.5020, 0.5647],\n",
       "         [0.5608, 0.6353, 0.6471,  ..., 0.3647, 0.4392, 0.5059],\n",
       "         [0.4667, 0.5686, 0.6863,  ..., 0.4118, 0.4784, 0.5333],\n",
       "         ...,\n",
       "         [0.2000, 0.1804, 0.1490,  ..., 0.2980, 0.3020, 0.3059],\n",
       "         [0.1451, 0.1647, 0.1608,  ..., 0.3255, 0.2941, 0.2471],\n",
       "         [0.0941, 0.1529, 0.1843,  ..., 0.3686, 0.3765, 0.3255]]])"
      ]
     },
     "execution_count": 12,
     "metadata": {},
     "output_type": "execute_result"
    }
   ],
   "source": [
    "train_image_batches, train_target_batches = next(iter(train_dataloader))\n",
    "test_image = train_image_batches[0]\n",
    "test_image"
   ]
  },
  {
   "cell_type": "code",
   "execution_count": null,
   "metadata": {},
   "outputs": [],
   "source": []
  }
 ],
 "metadata": {
  "kernelspec": {
   "display_name": "base",
   "language": "python",
   "name": "python3"
  },
  "language_info": {
   "codemirror_mode": {
    "name": "ipython",
    "version": 3
   },
   "file_extension": ".py",
   "mimetype": "text/x-python",
   "name": "python",
   "nbconvert_exporter": "python",
   "pygments_lexer": "ipython3",
   "version": "3.12.7"
  }
 },
 "nbformat": 4,
 "nbformat_minor": 2
}
